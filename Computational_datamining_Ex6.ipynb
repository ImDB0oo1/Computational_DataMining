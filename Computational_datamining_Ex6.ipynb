{
  "nbformat": 4,
  "nbformat_minor": 0,
  "metadata": {
    "colab": {
      "provenance": []
    },
    "kernelspec": {
      "name": "python3",
      "display_name": "Python 3"
    },
    "language_info": {
      "name": "python"
    }
  },
  "cells": [
    {
      "cell_type": "markdown",
      "source": [
        "#Power method decomposition\n"
      ],
      "metadata": {
        "id": "BBhOsZ7Wv7gB"
      }
    },
    {
      "cell_type": "code",
      "source": [
        "import numpy as np\n",
        "import matplotlib.pyplot as plt\n",
        "from matplotlib.patches import Ellipse"
      ],
      "metadata": {
        "id": "mCjKHm6_xCBB"
      },
      "execution_count": null,
      "outputs": []
    },
    {
      "cell_type": "code",
      "source": [
        "d = 10\n",
        "k = 6\n",
        "n = 1000\n",
        "tot = k * n\n",
        "s = 2\n",
        "dist = 20\n",
        "spher = True\n",
        "cov_range = 2"
      ],
      "metadata": {
        "id": "F9nDDuXQv7Fv"
      },
      "execution_count": null,
      "outputs": []
    },
    {
      "cell_type": "code",
      "source": [
        "def generate_data():\n",
        "    A = -dist+(dist+dist)*np.random.rand(d, k)\n",
        "    X = np.zeros((tot, d))\n",
        "\n",
        "    plt.axis('equal')\n",
        "\n",
        "    for i in range(k):\n",
        "        mean = np.transpose(A[:, i])\n",
        "        if spher:\n",
        "            covariance = s * np.identity(d)\n",
        "        else:\n",
        "            a = -cov_range + (cov_range + cov_range) * np.random.rand(d, d)\n",
        "            covariance = np.matmul(np.transpose(a), a)\n",
        "        mvn = np.random.multivariate_normal(mean, covariance, n)\n",
        "        #plt.plot(mvn[:, 0], mvn[:, 1], '.')\n",
        "        #plt.plot(mean[0], mean[1], 'x')\n",
        "        X[i*n:(i+1)*n, :] = mvn\n",
        "\n",
        "    return (X, A)"
      ],
      "metadata": {
        "id": "Zl9yZbAewchk"
      },
      "execution_count": null,
      "outputs": []
    },
    {
      "cell_type": "code",
      "source": [
        "def calculate_first_moment(X):\n",
        "    mu = np.zeros((d, 1))\n",
        "    for t in range(tot):\n",
        "        for i in range(d):\n",
        "            mu[i] += + X[t, i]\n",
        "    mu /= tot\n",
        "    return mu"
      ],
      "metadata": {
        "id": "YRbTvNliwgyj"
      },
      "execution_count": null,
      "outputs": []
    },
    {
      "cell_type": "code",
      "source": [
        "def calculate_second_moment(X):\n",
        "    Sigma = np.zeros((d, d))\n",
        "    for t in range(tot):\n",
        "        for i in range(d):\n",
        "            for j in range(d):\n",
        "                Sigma[i, j] += np.dot(X[t, i],X[t, j])\n",
        "    Sigma /= tot\n",
        "    return Sigma"
      ],
      "metadata": {
        "id": "mnfpZpp9wkzF"
      },
      "execution_count": null,
      "outputs": []
    },
    {
      "cell_type": "code",
      "source": [
        "def perform_whitening(X, U, S):\n",
        "    W = np.matmul(U[:, 0:k], np.sqrt(np.linalg.pinv(np.diag(S[0:k]))))\n",
        "    X_whit = np.matmul(X, W)\n",
        "    return (W, X_whit)"
      ],
      "metadata": {
        "id": "CB8ZUpUhwuUO"
      },
      "execution_count": null,
      "outputs": []
    },
    {
      "cell_type": "code",
      "source": [
        "def extract_information_from_second_moment(Sigma, X):\n",
        "    U, S, _ = np.linalg.svd(Sigma)\n",
        "    s_est = S[-1]\n",
        "    W, X_whit = perform_whitening(X, U, S)\n",
        "    return (s_est, W, X_whit)"
      ],
      "metadata": {
        "id": "AwfCaXXjwrZU"
      },
      "execution_count": null,
      "outputs": []
    },
    {
      "cell_type": "code",
      "source": [
        "def perform_tensor_power_method(X_whit, W, s_est, mu):\n",
        "    TOL = 1e-8\n",
        "    maxiter = 100\n",
        "    V_est = np.zeros((k, k))\n",
        "    lamb = np.zeros((k, 1))\n",
        "\n",
        "    for i in range(k):\n",
        "        v_old = np.random.rand(k, 1)\n",
        "        v_old = np.divide(v_old, np.linalg.norm(v_old))\n",
        "        for iter in range(maxiter):\n",
        "            v_new = (np.matmul(np.transpose(X_whit), (np.matmul(X_whit, v_old) * np.matmul(X_whit, v_old)))) / tot\n",
        "            #v_new = v_new - s_est * (W' * mu * dot((W*v_old),(W*v_old)));\n",
        "            #v_new = v_new - s_est * (2 * W' * W * v_old * ((W'*mu)' * (v_old)));\n",
        "            v_new -= s_est * (np.matmul(np.matmul(W.T, mu), np.dot(np.matmul(W, v_old).T,np.matmul(W, v_old))))\n",
        "            v_new -= s_est * (2 * np.matmul(W.T, np.matmul(W, np.matmul(v_old, np.matmul(np.matmul(W.T, mu).T, v_old)))))\n",
        "            if i > 0:\n",
        "                for j in range(i):\n",
        "                    v_new -= np.reshape(V_est[:, j] * np.power(np.matmul(np.transpose(v_old), V_est[:, j]), 2) * lamb[j], (k, 1))\n",
        "            l = np.linalg.norm(v_new)\n",
        "            v_new = np.divide(v_new, np.linalg.norm(v_new))\n",
        "            if np.linalg.norm(v_old - v_new) < TOL:\n",
        "                V_est[:, i] = np.reshape(v_new, k)\n",
        "                lamb[i] = l\n",
        "                break\n",
        "            v_old = v_new\n",
        "\n",
        "    return (V_est, lamb)"
      ],
      "metadata": {
        "id": "E-qU-ba-wwnx"
      },
      "execution_count": null,
      "outputs": []
    },
    {
      "cell_type": "code",
      "source": [
        "def perform_backwards_transformation(V_est, lamb):\n",
        "    return np.matmul(np.matmul(np.linalg.pinv(np.transpose(W)), V_est), np.diag(np.reshape(lamb.T, k)))"
      ],
      "metadata": {
        "id": "Z_94iMrAw2wJ"
      },
      "execution_count": null,
      "outputs": []
    },
    {
      "cell_type": "code",
      "source": [
        "def plot_results(X, A, A_est, s_est):\n",
        "    plt.axis('equal')\n",
        "\n",
        "    ax = plt.subplot(aspect='equal')\n",
        "\n",
        "    plt.plot(X[:,0], X[:,1], '.', zorder=-3)\n",
        "\n",
        "    for i in range(k):\n",
        "        mean = A[:, i].T\n",
        "        mean_est = A_est[:, i].T\n",
        "\n",
        "        plt.plot(mean[0], mean[1], 'x', color='y', zorder=-2)\n",
        "        plt.plot(mean_est[0], mean_est[1], '+', color='r', zorder=-1)\n",
        "\n",
        "        ell = Ellipse(xy=(mean_est[0], mean_est[1]),\n",
        "                      width=s_est, height=s_est,\n",
        "                      angle=0, color='red')\n",
        "        ell.set_facecolor('none')\n",
        "        ax.add_artist(ell)\n",
        "\n",
        "    plt.show()\n"
      ],
      "metadata": {
        "id": "IqtiBsimw6wP"
      },
      "execution_count": null,
      "outputs": []
    },
    {
      "cell_type": "code",
      "source": [
        "X, A = generate_data()\n",
        "\n",
        "mu = calculate_first_moment(X)\n",
        "Sigma = calculate_second_moment(X)\n",
        "\n",
        "s_est, W, X_whit = extract_information_from_second_moment(Sigma, X)\n",
        "\n",
        "V_est, lamb = perform_tensor_power_method(X_whit, W, s_est, mu)\n",
        "\n",
        "A_est = perform_backwards_transformation(V_est, lamb)\n",
        "\n",
        "plot_results(X, A, A_est, s_est)"
      ],
      "metadata": {
        "colab": {
          "base_uri": "https://localhost:8080/",
          "height": 486
        },
        "id": "guXBkEv8xJB8",
        "outputId": "bcd6d467-1a3d-4c33-bdf4-895dd55b9b86"
      },
      "execution_count": null,
      "outputs": [
        {
          "output_type": "stream",
          "name": "stderr",
          "text": [
            "<ipython-input-8-c094fd855d70>:4: MatplotlibDeprecationWarning: Auto-removal of overlapping axes is deprecated since 3.6 and will be removed two minor releases later; explicitly call ax.remove() as needed.\n",
            "  ax = plt.subplot(aspect='equal')\n"
          ]
        },
        {
          "output_type": "display_data",
          "data": {
            "text/plain": [
              "<Figure size 640x480 with 1 Axes>"
            ],
            "image/png": "[encoded data removed]"
          },
          "metadata": {}
        }
      ]
    },
    {
      "cell_type": "markdown",
      "source": [
        "#Tucker decomposition\n"
      ],
      "metadata": {
        "id": "wGXnZIocv23J"
      }
    },
    {
      "cell_type": "code",
      "source": [
        "!pip install tensorly"
      ],
      "metadata": {
        "colab": {
          "base_uri": "https://localhost:8080/"
        },
        "id": "F7nkcEn4xVGx",
        "outputId": "04cf83ee-4a97-41a3-9e6d-ed72d6baa39b"
      },
      "execution_count": null,
      "outputs": [
        {
          "output_type": "stream",
          "name": "stdout",
          "text": [
            "Looking in indexes: https://pypi.org/simple, https://us-python.pkg.dev/colab-wheels/public/simple/\n",
            "Collecting tensorly\n",
            "  Downloading tensorly-0.8.1-py3-none-any.whl (229 kB)\n",
            "\u001b[2K     \u001b[90m━━━━━━━━━━━━━━━━━━━━━━━━━━━━━━━━━━━━━━\u001b[0m \u001b[32m229.7/229.7 kB\u001b[0m \u001b[31m16.8 MB/s\u001b[0m eta \u001b[36m0:00:00\u001b[0m\n",
            "\u001b[?25hRequirement already satisfied: numpy in /usr/local/lib/python3.10/dist-packages (from tensorly) (1.22.4)\n",
            "Requirement already satisfied: scipy in /usr/local/lib/python3.10/dist-packages (from tensorly) (1.10.1)\n",
            "Installing collected packages: tensorly\n",
            "Successfully installed tensorly-0.8.1\n"
          ]
        }
      ]
    },
    {
      "cell_type": "code",
      "execution_count": null,
      "metadata": {
        "colab": {
          "base_uri": "https://localhost:8080/"
        },
        "id": "hCcwArP6vv4j",
        "outputId": "2a2cd6fe-bf15-4428-b4c4-c2af70582395"
      },
      "outputs": [
        {
          "output_type": "stream",
          "name": "stdout",
          "text": [
            "Topic 0:\n",
            "Top words: fish, cat, bird\n",
            "Top documents: fish bird cat, dog fish bird, cat dog fish\n",
            "\n",
            "Topic 1:\n",
            "Top words: dog, fish, bird\n",
            "Top documents: bird cat, fish bird cat, dog fish bird\n",
            "\n"
          ]
        },
        {
          "output_type": "stream",
          "name": "stderr",
          "text": [
            "/usr/local/lib/python3.10/dist-packages/tensorly/tenalg/svd.py:193: UserWarning: Trying to compute SVD with n_eigenvecs=5, which is larger than max(matrix.shape)=4. Setting n_eigenvecs to 4.\n",
            "  warnings.warn(\n"
          ]
        }
      ],
      "source": [
        "import numpy as np\n",
        "import tensorly as tl\n",
        "from tensorly.decomposition import tucker\n",
        "\n",
        "# Generate a toy text corpus\n",
        "corpus = ['cat dog fish', 'dog fish bird', 'bird cat', 'fish bird cat']\n",
        "\n",
        "# Create a vocabulary of unique words\n",
        "vocab = sorted(list(set(' '.join(corpus).split())))\n",
        "\n",
        "# Create a word-document-topic tensor\n",
        "X = np.zeros((len(vocab), len(corpus), 2))\n",
        "for i, doc in enumerate(corpus):\n",
        "    for j, word in enumerate(vocab):\n",
        "        X[j, i, 0] = doc.count(word)\n",
        "\n",
        "# Perform Tucker decomposition\n",
        "core, factors = tucker(X, rank=[5, 2, 2])\n",
        "\n",
        "# Extract the topics from the factor matrices\n",
        "word_topics = factors[0].argmax(axis=1)\n",
        "doc_topics = factors[1].argmax(axis=1)\n",
        "\n",
        "# Print the top words and documents for each topic\n",
        "for k in range(2):\n",
        "    print(f'Topic {k}:')\n",
        "    top_words = [vocab[i] for i in np.argsort(factors[0][:,k])[::-1][:3]]\n",
        "    print('Top words:', ', '.join(top_words))\n",
        "    top_docs = [corpus[i] for i in np.argsort(factors[1][:,k])[::-1][:3]]\n",
        "    print('Top documents:', ', '.join(top_docs))\n",
        "    print()"
      ]
    },
    {
      "cell_type": "code",
      "source": [],
      "metadata": {
        "id": "UYWEcIQbxQrO"
      },
      "execution_count": null,
      "outputs": []
    }
  ]
}