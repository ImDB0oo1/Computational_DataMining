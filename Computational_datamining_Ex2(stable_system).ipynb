{
  "nbformat": 4,
  "nbformat_minor": 0,
  "metadata": {
    "colab": {
      "provenance": []
    },
    "kernelspec": {
      "name": "python3",
      "display_name": "Python 3"
    },
    "language_info": {
      "name": "python"
    }
  },
  "cells": [
    {
      "cell_type": "code",
      "source": [
        "import numpy as np\n",
        "from scipy.sparse import diags\n",
        "from scipy.linalg import norm\n",
        "from scipy.sparse.linalg import bicg"
      ],
      "metadata": {
        "id": "UxADyB84pUKJ"
      },
      "execution_count": null,
      "outputs": []
    },
    {
      "cell_type": "code",
      "source": [
        "A = np.array([\n",
        "[2.001,1,1,1,1,1],\n",
        "[1,2.001,1,1,4.999,1],\n",
        "[1,1,1,2.001,1,1],\n",
        "[1,1,1,1,2.001,1],\n",
        "[0.001,1,1,1,1,2.001],\n",
        "[0.001,1,1,1,1,2.001]\n",
        "])\n",
        "\n",
        "print('Shape of matrix A:',A.shape)\n",
        "print()\n",
        "A"
      ],
      "metadata": {
        "colab": {
          "base_uri": "https://localhost:8080/"
        },
        "id": "P5Cu_zlSRF2Z",
        "outputId": "0e2954d3-3170-4a03-cb77-1513fd7a193d"
      },
      "execution_count": null,
      "outputs": [
        {
          "output_type": "stream",
          "name": "stdout",
          "text": [
            "Shape of matrix A: (6, 6)\n",
            "\n"
          ]
        },
        {
          "output_type": "execute_result",
          "data": {
            "text/plain": [
              "array([[2.001e+00, 1.000e+00, 1.000e+00, 1.000e+00, 1.000e+00, 1.000e+00],\n",
              "       [1.000e+00, 2.001e+00, 1.000e+00, 1.000e+00, 4.999e+00, 1.000e+00],\n",
              "       [1.000e+00, 1.000e+00, 1.000e+00, 2.001e+00, 1.000e+00, 1.000e+00],\n",
              "       [1.000e+00, 1.000e+00, 1.000e+00, 1.000e+00, 2.001e+00, 1.000e+00],\n",
              "       [1.000e-03, 1.000e+00, 1.000e+00, 1.000e+00, 1.000e+00, 2.001e+00],\n",
              "       [1.000e-03, 1.000e+00, 1.000e+00, 1.000e+00, 1.000e+00, 2.001e+00]])"
            ]
          },
          "metadata": {},
          "execution_count": 3
        }
      ]
    },
    {
      "cell_type": "code",
      "source": [
        "print('condition number of matrix A is :',np.linalg.cond(A,2).round(4))"
      ],
      "metadata": {
        "colab": {
          "base_uri": "https://localhost:8080/"
        },
        "id": "aJBeqBibRLwf",
        "outputId": "864feab8-40e4-462d-f6ad-0812738c7319"
      },
      "execution_count": null,
      "outputs": [
        {
          "output_type": "stream",
          "name": "stdout",
          "text": [
            "condition number of matrix A is : 1.208732104844498e+18\n"
          ]
        }
      ]
    },
    {
      "cell_type": "code",
      "source": [
        "B = np.array([[1],[1],[1],[1],[1],[1]])\n",
        "print('Shape of matrix B:',B.shape)\n",
        "print()\n",
        "B"
      ],
      "metadata": {
        "colab": {
          "base_uri": "https://localhost:8080/"
        },
        "id": "TiQsV8KfRPAQ",
        "outputId": "5ef66cdd-6fed-4f63-a7aa-eef7cf6cb1a3"
      },
      "execution_count": null,
      "outputs": [
        {
          "output_type": "stream",
          "name": "stdout",
          "text": [
            "Shape of matrix B: (6, 1)\n",
            "\n"
          ]
        },
        {
          "output_type": "execute_result",
          "data": {
            "text/plain": [
              "array([[1],\n",
              "       [1],\n",
              "       [1],\n",
              "       [1],\n",
              "       [1],\n",
              "       [1]])"
            ]
          },
          "metadata": {},
          "execution_count": 5
        }
      ]
    },
    {
      "cell_type": "code",
      "source": [
        "x = bicg(A,B)\n",
        "print('The solution of Ax = B is :')\n",
        "print()\n",
        "x[0]"
      ],
      "metadata": {
        "colab": {
          "base_uri": "https://localhost:8080/"
        },
        "id": "G2rnY8FkRRSq",
        "outputId": "5a65f7bd-fbad-4f46-83c2-709a8e68d04b"
      },
      "execution_count": null,
      "outputs": [
        {
          "output_type": "stream",
          "name": "stdout",
          "text": [
            "The solution of Ax = B is :\n",
            "\n"
          ]
        },
        {
          "output_type": "execute_result",
          "data": {
            "text/plain": [
              "array([1.82159843e-13, 2.82884827e-13, 1.00000000e+00, 1.80133686e-13,\n",
              "       1.49380508e-13, 1.49380508e-13])"
            ]
          },
          "metadata": {},
          "execution_count": 6
        }
      ]
    },
    {
      "cell_type": "code",
      "source": [
        "error_A = np.array([\n",
        "[0,0,0,0,-0.001,0],\n",
        "[0,0,0,0,0.001,0],\n",
        "[0.001,0,0,0,0,0],\n",
        "[0,0,0,0,0,0],\n",
        "[0,0,0,0,0.001,0],\n",
        "[-0.001,0,0,0,0,0],\n",
        "])\n",
        "\n",
        "print('Error for A matrix:')\n",
        "print()\n",
        "error_A"
      ],
      "metadata": {
        "colab": {
          "base_uri": "https://localhost:8080/"
        },
        "id": "akGrmH3RRTZq",
        "outputId": "d671eec2-9105-4239-c3eb-a8a0ec8ae777"
      },
      "execution_count": null,
      "outputs": [
        {
          "output_type": "stream",
          "name": "stdout",
          "text": [
            "Error for A matrix:\n",
            "\n"
          ]
        },
        {
          "output_type": "execute_result",
          "data": {
            "text/plain": [
              "array([[ 0.   ,  0.   ,  0.   ,  0.   , -0.001,  0.   ],\n",
              "       [ 0.   ,  0.   ,  0.   ,  0.   ,  0.001,  0.   ],\n",
              "       [ 0.001,  0.   ,  0.   ,  0.   ,  0.   ,  0.   ],\n",
              "       [ 0.   ,  0.   ,  0.   ,  0.   ,  0.   ,  0.   ],\n",
              "       [ 0.   ,  0.   ,  0.   ,  0.   ,  0.001,  0.   ],\n",
              "       [-0.001,  0.   ,  0.   ,  0.   ,  0.   ,  0.   ]])"
            ]
          },
          "metadata": {},
          "execution_count": 7
        }
      ]
    },
    {
      "cell_type": "code",
      "source": [
        "A_error = A + error_A\n",
        "\n",
        "print('Matrix A after adding error:')\n",
        "print()\n",
        "A_error"
      ],
      "metadata": {
        "colab": {
          "base_uri": "https://localhost:8080/"
        },
        "id": "5Mon988JRV9o",
        "outputId": "bf8f129d-7540-425c-be1c-0c18cd5e11da"
      },
      "execution_count": null,
      "outputs": [
        {
          "output_type": "stream",
          "name": "stdout",
          "text": [
            "Matrix A after adding error:\n",
            "\n"
          ]
        },
        {
          "output_type": "execute_result",
          "data": {
            "text/plain": [
              "array([[2.001e+00, 1.000e+00, 1.000e+00, 1.000e+00, 9.990e-01, 1.000e+00],\n",
              "       [1.000e+00, 2.001e+00, 1.000e+00, 1.000e+00, 5.000e+00, 1.000e+00],\n",
              "       [1.001e+00, 1.000e+00, 1.000e+00, 2.001e+00, 1.000e+00, 1.000e+00],\n",
              "       [1.000e+00, 1.000e+00, 1.000e+00, 1.000e+00, 2.001e+00, 1.000e+00],\n",
              "       [1.000e-03, 1.000e+00, 1.000e+00, 1.000e+00, 1.001e+00, 2.001e+00],\n",
              "       [0.000e+00, 1.000e+00, 1.000e+00, 1.000e+00, 1.000e+00, 2.001e+00]])"
            ]
          },
          "metadata": {},
          "execution_count": 8
        }
      ]
    },
    {
      "cell_type": "code",
      "source": [
        "x_A_error = bicg(A_error,B)\n",
        "print('The solution of Ax = B after adding error to A is :')\n",
        "print()\n",
        "x_A_error[0]"
      ],
      "metadata": {
        "colab": {
          "base_uri": "https://localhost:8080/"
        },
        "id": "x2QrDeA-RYdY",
        "outputId": "b5d6a1a5-8c80-4b8b-a33d-b345b1e41a6c"
      },
      "execution_count": null,
      "outputs": [
        {
          "output_type": "stream",
          "name": "stdout",
          "text": [
            "The solution of Ax = B after adding error to A is :\n",
            "\n"
          ]
        },
        {
          "output_type": "execute_result",
          "data": {
            "text/plain": [
              "array([ 6.06832574e-06, -1.84945151e-05,  9.99981972e-01,  6.15654093e-06,\n",
              "        6.09881552e-06,  1.21336317e-05])"
            ]
          },
          "metadata": {},
          "execution_count": 9
        }
      ]
    },
    {
      "cell_type": "code",
      "source": [
        "Error_A_Error = np.linalg.norm(np.transpose(x[0]) - np.transpose(x_A_error)[0],2).round(5)\n",
        "print('Error of solution when A has error:',Error_A_Error)\n",
        "print()\n",
        "print()"
      ],
      "metadata": {
        "colab": {
          "base_uri": "https://localhost:8080/"
        },
        "id": "hs2NPqPoRapP",
        "outputId": "861ed3db-9269-4db2-bdcc-859f7b4e7e1d"
      },
      "execution_count": null,
      "outputs": [
        {
          "output_type": "stream",
          "name": "stdout",
          "text": [
            "Error of solution when A has error: 3e-05\n",
            "\n",
            "\n"
          ]
        },
        {
          "output_type": "stream",
          "name": "stderr",
          "text": [
            "/usr/local/lib/python3.9/dist-packages/numpy/core/fromnumeric.py:43: VisibleDeprecationWarning: Creating an ndarray from ragged nested sequences (which is a list-or-tuple of lists-or-tuples-or ndarrays with different lengths or shapes) is deprecated. If you meant to do this, you must specify 'dtype=object' when creating the ndarray.\n",
            "  result = getattr(asarray(obj), method)(*args, **kwds)\n"
          ]
        }
      ]
    },
    {
      "cell_type": "code",
      "source": [
        "error_B = np.array([[0.001],[0],[-0.001],[0],[-0.001],[0.001]])\n",
        "print('Error for B matrix:')\n",
        "print()\n",
        "error_B"
      ],
      "metadata": {
        "colab": {
          "base_uri": "https://localhost:8080/"
        },
        "id": "fwW-blsxRc3D",
        "outputId": "6707bd39-b608-4b0d-be5b-426c7c8b7a14"
      },
      "execution_count": null,
      "outputs": [
        {
          "output_type": "stream",
          "name": "stdout",
          "text": [
            "Error for B matrix:\n",
            "\n"
          ]
        },
        {
          "output_type": "execute_result",
          "data": {
            "text/plain": [
              "array([[ 0.001],\n",
              "       [ 0.   ],\n",
              "       [-0.001],\n",
              "       [ 0.   ],\n",
              "       [-0.001],\n",
              "       [ 0.001]])"
            ]
          },
          "metadata": {},
          "execution_count": 11
        }
      ]
    },
    {
      "cell_type": "code",
      "source": [
        "B_error = B + error_B\n",
        "\n",
        "print('Matrix B after adding error:')\n",
        "print()\n",
        "B_error"
      ],
      "metadata": {
        "colab": {
          "base_uri": "https://localhost:8080/"
        },
        "id": "mqxu1pf_Rg-d",
        "outputId": "0868f2b4-dbac-45d1-d50f-e81f6e461f20"
      },
      "execution_count": null,
      "outputs": [
        {
          "output_type": "stream",
          "name": "stdout",
          "text": [
            "Matrix B after adding error:\n",
            "\n"
          ]
        },
        {
          "output_type": "execute_result",
          "data": {
            "text/plain": [
              "array([[1.001],\n",
              "       [1.   ],\n",
              "       [0.999],\n",
              "       [1.   ],\n",
              "       [0.999],\n",
              "       [1.001]])"
            ]
          },
          "metadata": {},
          "execution_count": 12
        }
      ]
    },
    {
      "cell_type": "code",
      "source": [
        "x_B_error = bicg(A,B_error)\n",
        "print('The solution of Ax = B after adding error to B is :')\n",
        "print()\n",
        "x_B_error[0]"
      ],
      "metadata": {
        "colab": {
          "base_uri": "https://localhost:8080/"
        },
        "id": "JBNRDig3RjDU",
        "outputId": "1c2c4f9d-25f8-47b2-9a1f-aacbf7a1fe38"
      },
      "execution_count": null,
      "outputs": [
        {
          "output_type": "stream",
          "name": "stdout",
          "text": [
            "The solution of Ax = B after adding error to B is :\n",
            "\n"
          ]
        },
        {
          "output_type": "execute_result",
          "data": {
            "text/plain": [
              "array([ 1.93754094e+27, -5.80294480e+27, -5.82036718e+27,  1.93754094e+27,\n",
              "        1.93754094e+27,  3.87121067e+27])"
            ]
          },
          "metadata": {},
          "execution_count": 14
        }
      ]
    },
    {
      "cell_type": "code",
      "source": [
        "Error_B_Error = np.linalg.norm(np.transpose(x[0]) - np.transpose(x_B_error)[0],2).round(5)\n",
        "print('Error of solution when B has error:',Error_B_Error)\n",
        "print()\n",
        "print()"
      ],
      "metadata": {
        "colab": {
          "base_uri": "https://localhost:8080/"
        },
        "id": "JcwTRO-5Rk-b",
        "outputId": "e0e8bc9b-b54a-4c68-c1e7-2407e70c3414"
      },
      "execution_count": null,
      "outputs": [
        {
          "output_type": "stream",
          "name": "stdout",
          "text": [
            "Error of solution when B has error: 9.685004346689027e+27\n",
            "\n",
            "\n"
          ]
        }
      ]
    },
    {
      "cell_type": "code",
      "source": [
        "x_Both_error = bicg(A_error,B_error)\n",
        "print('The solution of Ax = B after adding error to both A & B is :')\n",
        "print()\n",
        "x_Both_error[0]"
      ],
      "metadata": {
        "colab": {
          "base_uri": "https://localhost:8080/"
        },
        "id": "fdW5ho7TRtgs",
        "outputId": "89582088-de0a-4e9c-ac17-52d65b7ecddb"
      },
      "execution_count": null,
      "outputs": [
        {
          "output_type": "stream",
          "name": "stdout",
          "text": [
            "The solution of Ax = B after adding error to both A & B is :\n",
            "\n"
          ]
        },
        {
          "output_type": "execute_result",
          "data": {
            "text/plain": [
              "array([-1.      ,  2.996004,  4.002998, -1.      , -1.      , -1.998002])"
            ]
          },
          "metadata": {},
          "execution_count": 16
        }
      ]
    },
    {
      "cell_type": "code",
      "source": [
        "Error_both_Error = np.linalg.norm(np.transpose(x[0]) - np.transpose(x_Both_error)[0],2).round(5)\n",
        "print('Error of solution when both A & B has error:',Error_both_Error)\n",
        "print()\n",
        "print()"
      ],
      "metadata": {
        "colab": {
          "base_uri": "https://localhost:8080/"
        },
        "id": "7b8oaNf3RvLB",
        "outputId": "ed3f69fd-0863-4981-fd6f-3eef578f71b3"
      },
      "execution_count": null,
      "outputs": [
        {
          "output_type": "stream",
          "name": "stdout",
          "text": [
            "Error of solution when both A & B has error: 4.9986\n",
            "\n",
            "\n"
          ]
        }
      ]
    },
    {
      "cell_type": "code",
      "source": [
        "def splitMatrix(A):\n",
        "    n,m = A.shape\n",
        "    if (n == m):\n",
        "        diagval = np.diag(A)\n",
        "        D = diags(diagval,0).toarray()\n",
        "        L = (-1)*np.tril(A,-1)\n",
        "        U = (-1)*np.triu(A,1)\n",
        "    else:\n",
        "        print(\"A needs to be a square matrix\")\n",
        "    return (L,D,U)"
      ],
      "metadata": {
        "id": "K6kJKC4RRwy7"
      },
      "execution_count": null,
      "outputs": []
    },
    {
      "cell_type": "code",
      "source": [
        "def P_SSOR(A,w):\n",
        "    L,D,U = splitMatrix(A)\n",
        "    P = w/(2-w) * (1/w*D+L)*np.linalg.inv(D)*(1/w*D+L).T\n",
        "    return P"
      ],
      "metadata": {
        "id": "6kBhOoUxRykc"
      },
      "execution_count": null,
      "outputs": []
    },
    {
      "cell_type": "code",
      "source": [
        "def myGMRES_SSOR(A,x0, b, tol, maxit):\n",
        "    matrixSize = A.shape[0]\n",
        "    e = np.zeros((maxit+1,1))\n",
        "    rr = 1\n",
        "    rstart = 2\n",
        "    X = x0\n",
        "    w = 1.9\n",
        "    P = P_SSOR(A,w) ### preconditioned matrix\n",
        "    for rs in range(0,rstart+1):\n",
        "        if rr<tol:\n",
        "            break\n",
        "        else:\n",
        "            r0 = (b-A.dot(x0))\n",
        "            rho = norm(r0)\n",
        "            e[0] = rho\n",
        "            H = np.zeros((maxit+1,maxit))\n",
        "            Qcol = np.zeros((matrixSize, maxit+1))\n",
        "            Qcol[:,0:1] = r0/rho\n",
        "        for k in range(1, maxit+1):\n",
        "            Qcol[:,k] =np.matmul(np.matmul(A,P), Qcol[:,k-1])\n",
        "            for j in range(0,k):\n",
        "                H[j,k-1] = np.dot(np.transpose(Qcol[:,k]),Qcol[:,j])\n",
        "                Qcol[:,k] = Qcol[:,k] - (np.dot(H[j,k-1], Qcol[:,j]))\n",
        "            H[k,k-1] =norm(Qcol[:,k])\n",
        "            Qcol[:,k] = Qcol[:,k]/H[k,k-1]\n",
        "            n = k\n",
        "            Q = np.zeros((n+1, n))\n",
        "            R = np.zeros((n, n))\n",
        "            R[0, 0] = norm(H[0:n+2, 0])\n",
        "            Q[:, 0] = H[0:n+1, 0] / R[0,0]\n",
        "            for j in range (0, n+1):\n",
        "                t = H[0:n+1, j-1]\n",
        "                for i in range (0, j-1):\n",
        "                    R[i, j-1] = np.dot(Q[:, i], t)\n",
        "                    t = t - np.dot(R[i, j-1], Q[:, i])\n",
        "                R[j-1, j-1] = norm(t)\n",
        "                Q[:, j-1] = t / R[j-1, j-1]\n",
        "\n",
        "            g = np.dot(np.transpose(Q), e[0:k+1])\n",
        "            Y = np.dot(np.linalg.inv(R), g)\n",
        "\n",
        "            Res= e[0:n] - np.dot(H[0:n, 0:n], Y[0:n])\n",
        "            rr = norm(Res)\n",
        "            if rr < tol:\n",
        "                break\n",
        "        #### Updating the solution with the preconditioned matrix ####\n",
        "        X = X  + np.matmul(np.matmul(P,Qcol[:, 0:k]), Y)\n",
        "    return X"
      ],
      "metadata": {
        "id": "Odn37QLDR0DX"
      },
      "execution_count": null,
      "outputs": []
    },
    {
      "cell_type": "code",
      "source": [
        "x0 = np.zeros((6,1))\n",
        "tol = 0.00001\n",
        "maxit = 100\n",
        "X_A_preconditioning = myGMRES_SSOR(A_error, x0, B , tol, maxit)\n",
        "X_A_preconditioning"
      ],
      "metadata": {
        "colab": {
          "base_uri": "https://localhost:8080/"
        },
        "id": "KlqtXAdHR24l",
        "outputId": "632d022f-8e22-4327-f63a-23ce1db1ccf4"
      },
      "execution_count": null,
      "outputs": [
        {
          "output_type": "stream",
          "name": "stderr",
          "text": [
            "<ipython-input-21-4d8c2e25d36e>:37: RuntimeWarning: invalid value encountered in true_divide\n",
            "  Q[:, j-1] = t / R[j-1, j-1]\n"
          ]
        },
        {
          "output_type": "execute_result",
          "data": {
            "text/plain": [
              "array([[ 7.44133985e-10],\n",
              "       [-2.22719532e-09],\n",
              "       [ 9.99999998e-01],\n",
              "       [ 7.42648083e-10],\n",
              "       [ 7.43389464e-10],\n",
              "       [ 1.48603913e-09]])"
            ]
          },
          "metadata": {},
          "execution_count": 22
        }
      ]
    },
    {
      "cell_type": "code",
      "source": [
        "left_Error_before_Preconditionig = np.linalg.norm(np.transpose(x[0]) - np.transpose(x_A_error)[0],2).round(5)\n",
        "left_Error_After_Preconditionig =np.linalg.norm(np.transpose(x[0]) - np.transpose(X_A_preconditioning)[0],2).round(9)\n",
        "print('Error Before Preconditionig:',left_Error_before_Preconditionig)\n",
        "print('Error After Preconditionig:',left_Error_After_Preconditionig)\n",
        "print()\n",
        "print()"
      ],
      "metadata": {
        "colab": {
          "base_uri": "https://localhost:8080/"
        },
        "id": "VNDOrCB1SK69",
        "outputId": "ffe4f5ef-3774-4440-dafc-a08bfc8a2195"
      },
      "execution_count": null,
      "outputs": [
        {
          "output_type": "stream",
          "name": "stdout",
          "text": [
            "Error Before Preconditionig: 3e-05\n",
            "Error After Preconditionig: 4e-09\n",
            "\n",
            "\n"
          ]
        }
      ]
    },
    {
      "cell_type": "code",
      "source": [
        "X_A_B_preconditioning = myGMRES_SSOR(A_error, x0, B_error , tol, maxit)\n",
        "X_A_B_preconditioning"
      ],
      "metadata": {
        "colab": {
          "base_uri": "https://localhost:8080/"
        },
        "id": "81v88CeOSM6W",
        "outputId": "703b17cb-ccdb-4a26-bd22-28ab41215576"
      },
      "execution_count": null,
      "outputs": [
        {
          "output_type": "stream",
          "name": "stderr",
          "text": [
            "<ipython-input-21-4d8c2e25d36e>:37: RuntimeWarning: invalid value encountered in true_divide\n",
            "  Q[:, j-1] = t / R[j-1, j-1]\n"
          ]
        },
        {
          "output_type": "execute_result",
          "data": {
            "text/plain": [
              "array([[-1.      ],\n",
              "       [ 2.996004],\n",
              "       [ 4.002998],\n",
              "       [-1.      ],\n",
              "       [-1.      ],\n",
              "       [-1.998002]])"
            ]
          },
          "metadata": {},
          "execution_count": 24
        }
      ]
    },
    {
      "cell_type": "code",
      "source": [
        "right_Error_before_Preconditionig = np.linalg.norm(np.transpose(x[0]) - np.transpose(x_Both_error)[0],2).round(5)\n",
        "right_Error_After_Preconditionig =np.linalg.norm(np.transpose(x[0]) - np.transpose(X_A_B_preconditioning)[0],2).round(7)\n",
        "print('Error Before Preconditionig:',right_Error_before_Preconditionig)\n",
        "print('Error After Preconditionig:',right_Error_After_Preconditionig)\n",
        "print()\n",
        "print()"
      ],
      "metadata": {
        "colab": {
          "base_uri": "https://localhost:8080/"
        },
        "id": "LVBZMHAESOhr",
        "outputId": "93adbe19-baf2-4560-deab-72cc160cf593"
      },
      "execution_count": null,
      "outputs": [
        {
          "output_type": "stream",
          "name": "stdout",
          "text": [
            "Error Before Preconditionig: 4.9986\n",
            "Error After Preconditionig: 4.9986047\n",
            "\n",
            "\n"
          ]
        }
      ]
    },
    {
      "cell_type": "code",
      "source": [
        "A_Rectangle = np.array([\n",
        "[1.001,1,1,1,1.001,1],\n",
        "[1,1.001,1,1.001,1,2.999],\n",
        "[1,1.001,1,1,1.001,1],\n",
        "[1,1,1.001,1,1,1.001],\n",
        "[3.001,1,1,1,1.001,1]\n",
        "])\n",
        "\n",
        "print('Shape of matrix A:',A_Rectangle.shape)\n",
        "print()\n",
        "A_Rectangle"
      ],
      "metadata": {
        "colab": {
          "base_uri": "https://localhost:8080/"
        },
        "id": "PCnuel6FSQCq",
        "outputId": "29ba1653-30b4-4e4a-b0d1-36dfa3b0b499"
      },
      "execution_count": null,
      "outputs": [
        {
          "output_type": "stream",
          "name": "stdout",
          "text": [
            "Shape of matrix A: (5, 6)\n",
            "\n"
          ]
        },
        {
          "output_type": "execute_result",
          "data": {
            "text/plain": [
              "array([[1.001, 1.   , 1.   , 1.   , 1.001, 1.   ],\n",
              "       [1.   , 1.001, 1.   , 1.001, 1.   , 2.999],\n",
              "       [1.   , 1.001, 1.   , 1.   , 1.001, 1.   ],\n",
              "       [1.   , 1.   , 1.001, 1.   , 1.   , 1.001],\n",
              "       [3.001, 1.   , 1.   , 1.   , 1.001, 1.   ]])"
            ]
          },
          "metadata": {},
          "execution_count": 26
        }
      ]
    },
    {
      "cell_type": "code",
      "source": [
        "print('condition number of matrix A is :',np.linalg.cond(A_Rectangle,2).round(4))"
      ],
      "metadata": {
        "colab": {
          "base_uri": "https://localhost:8080/"
        },
        "id": "wO3fGCWOSSCe",
        "outputId": "aead2ea1-fa30-4a23-de5a-0b76ea55f14c"
      },
      "execution_count": null,
      "outputs": [
        {
          "output_type": "stream",
          "name": "stdout",
          "text": [
            "condition number of matrix A is : 11072.9568\n"
          ]
        }
      ]
    },
    {
      "cell_type": "code",
      "source": [
        "B_Rectangle = np.array([[1],[1],[1],[1],[1]])\n",
        "print('Shape of matrix B:',B_Rectangle.shape)\n",
        "print()\n",
        "B_Rectangle"
      ],
      "metadata": {
        "colab": {
          "base_uri": "https://localhost:8080/"
        },
        "id": "Ra4d4c1oSTnQ",
        "outputId": "d2a8caa0-f190-455e-f17c-d1c49263fab0"
      },
      "execution_count": null,
      "outputs": [
        {
          "output_type": "stream",
          "name": "stdout",
          "text": [
            "Shape of matrix B: (5, 1)\n",
            "\n"
          ]
        },
        {
          "output_type": "execute_result",
          "data": {
            "text/plain": [
              "array([[1],\n",
              "       [1],\n",
              "       [1],\n",
              "       [1],\n",
              "       [1]])"
            ]
          },
          "metadata": {},
          "execution_count": 28
        }
      ]
    },
    {
      "cell_type": "code",
      "source": [
        "X_Rectangle = np.matmul(np.linalg.inv(np.matmul(np.transpose(A_Rectangle),A_Rectangle)),\n",
        "              np.matmul(np.transpose(A_Rectangle),B_Rectangle))\n",
        "print('The solution of Ax = B is :')\n",
        "print()\n",
        "X_Rectangle"
      ],
      "metadata": {
        "colab": {
          "base_uri": "https://localhost:8080/"
        },
        "id": "FLi3BAg8SU_Y",
        "outputId": "0e5fb281-e971-4d97-ebd6-b2d9b395468d"
      },
      "execution_count": null,
      "outputs": [
        {
          "output_type": "stream",
          "name": "stdout",
          "text": [
            "The solution of Ax = B is :\n",
            "\n"
          ]
        },
        {
          "output_type": "execute_result",
          "data": {
            "text/plain": [
              "array([[ 1.75884454e-02],\n",
              "       [-1.42239947e+00],\n",
              "       [ 4.00000000e+00],\n",
              "       [-8.00000000e+00],\n",
              "       [ 8.00000000e+00],\n",
              "       [ 3.90625000e-03]])"
            ]
          },
          "metadata": {},
          "execution_count": 29
        }
      ]
    },
    {
      "cell_type": "code",
      "source": [
        "left_error_A = np.array([\n",
        "[-0.001,0,0,0.002,0,0],\n",
        "[0,0,0,0.001,0.009,0.001],\n",
        "[0,0,0,0,0,0.008],\n",
        "[0,0.002,0,0,0,0],\n",
        "[0,0,0,0,0.001,0]\n",
        "])\n",
        "print('Error for Matrix A :')\n",
        "print()\n",
        "left_error_A"
      ],
      "metadata": {
        "colab": {
          "base_uri": "https://localhost:8080/"
        },
        "id": "D04jXF3SSWdL",
        "outputId": "de924e55-7d53-4cca-a090-cc918b1e255d"
      },
      "execution_count": null,
      "outputs": [
        {
          "output_type": "stream",
          "name": "stdout",
          "text": [
            "Error for Matrix A :\n",
            "\n"
          ]
        },
        {
          "output_type": "execute_result",
          "data": {
            "text/plain": [
              "array([[-0.001,  0.   ,  0.   ,  0.002,  0.   ,  0.   ],\n",
              "       [ 0.   ,  0.   ,  0.   ,  0.001,  0.009,  0.001],\n",
              "       [ 0.   ,  0.   ,  0.   ,  0.   ,  0.   ,  0.008],\n",
              "       [ 0.   ,  0.002,  0.   ,  0.   ,  0.   ,  0.   ],\n",
              "       [ 0.   ,  0.   ,  0.   ,  0.   ,  0.001,  0.   ]])"
            ]
          },
          "metadata": {},
          "execution_count": 30
        }
      ]
    },
    {
      "cell_type": "code",
      "source": [
        "A_left_error = A_Rectangle + left_error_A\n",
        "print('Matrix A after adding Error :')\n",
        "print()\n",
        "A_left_error"
      ],
      "metadata": {
        "colab": {
          "base_uri": "https://localhost:8080/"
        },
        "id": "xHw3TsEbSYD_",
        "outputId": "fc8fbd3d-0ee9-4e96-a53e-59f9c4a10758"
      },
      "execution_count": null,
      "outputs": [
        {
          "output_type": "stream",
          "name": "stdout",
          "text": [
            "Matrix A after adding Error :\n",
            "\n"
          ]
        },
        {
          "output_type": "execute_result",
          "data": {
            "text/plain": [
              "array([[1.   , 1.   , 1.   , 1.002, 1.001, 1.   ],\n",
              "       [1.   , 1.001, 1.   , 1.002, 1.009, 3.   ],\n",
              "       [1.   , 1.001, 1.   , 1.   , 1.001, 1.008],\n",
              "       [1.   , 1.002, 1.001, 1.   , 1.   , 1.001],\n",
              "       [3.001, 1.   , 1.   , 1.   , 1.002, 1.   ]])"
            ]
          },
          "metadata": {},
          "execution_count": 31
        }
      ]
    },
    {
      "cell_type": "code",
      "source": [
        "X_left_error = np.matmul(np.linalg.inv(np.matmul(np.transpose(A_left_error),A_left_error)),\n",
        "                np.matmul(np.transpose(A_left_error),B_Rectangle))\n",
        "print('Solution of equation after Adding Error: ')\n",
        "print()\n",
        "X_left_error"
      ],
      "metadata": {
        "id": "cDwOStc2SaMj",
        "outputId": "68928b83-0f50-4e5c-893d-503199a5ca6b",
        "colab": {
          "base_uri": "https://localhost:8080/"
        }
      },
      "execution_count": null,
      "outputs": [
        {
          "output_type": "stream",
          "name": "stdout",
          "text": [
            "Solution of equation after Adding Error: \n",
            "\n"
          ]
        },
        {
          "output_type": "execute_result",
          "data": {
            "text/plain": [
              "array([[ 2.84375   ],\n",
              "       [ 2.        ],\n",
              "       [-4.        ],\n",
              "       [ 3.        ],\n",
              "       [-0.875     ],\n",
              "       [-0.00439453]])"
            ]
          },
          "metadata": {},
          "execution_count": 32
        }
      ]
    },
    {
      "cell_type": "code",
      "source": [
        "I = np.identity(6)\n",
        "L = 0.005"
      ],
      "metadata": {
        "id": "MSwOToOjScOc"
      },
      "execution_count": null,
      "outputs": []
    },
    {
      "cell_type": "code",
      "source": [
        "X_A_Error = np.matmul(np.linalg.inv(np.matmul(np.transpose(A_left_error),A_left_error)+ L* I),\n",
        "                  np.matmul(np.transpose(A_Rectangle),B_Rectangle))\n",
        "print('Solution of equation after Regularization: ')\n",
        "print()\n",
        "X_A_Error"
      ],
      "metadata": {
        "id": "yEmvCWEASdpF",
        "outputId": "99979b67-af5a-4b40-b2ba-f15a47b183b5",
        "colab": {
          "base_uri": "https://localhost:8080/"
        }
      },
      "execution_count": null,
      "outputs": [
        {
          "output_type": "stream",
          "name": "stdout",
          "text": [
            "Solution of equation after Regularization: \n",
            "\n"
          ]
        },
        {
          "output_type": "execute_result",
          "data": {
            "text/plain": [
              "array([[ 0.00374897],\n",
              "       [ 0.59687299],\n",
              "       [ 0.99582694],\n",
              "       [ 0.39765578],\n",
              "       [-1.00068982],\n",
              "       [ 0.00406338]])"
            ]
          },
          "metadata": {},
          "execution_count": 34
        }
      ]
    },
    {
      "cell_type": "code",
      "source": [
        "Error_before_regularization = np.linalg.norm(np.transpose(X_Rectangle) - np.transpose(X_left_error),2).round(4)\n",
        "Error_After_regularization = np.linalg.norm(np.transpose(X_Rectangle) - np.transpose(X_A_Error),2).round(4)\n",
        "print('Error Before regularization:',Error_before_regularization)\n",
        "print('Error After regularization:',Error_After_regularization)"
      ],
      "metadata": {
        "id": "QeXRdg1pSfDx",
        "outputId": "9aa968cd-4bd8-4c25-a379-8b4da71cb39d",
        "colab": {
          "base_uri": "https://localhost:8080/"
        }
      },
      "execution_count": null,
      "outputs": [
        {
          "output_type": "stream",
          "name": "stdout",
          "text": [
            "Error Before regularization: 16.8364\n",
            "Error After regularization: 12.831\n"
          ]
        }
      ]
    },
    {
      "cell_type": "code",
      "source": [],
      "metadata": {
        "id": "FpdNX1dkSg0K"
      },
      "execution_count": null,
      "outputs": []
    }
  ]
}