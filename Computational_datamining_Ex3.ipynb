{
  "nbformat": 4,
  "nbformat_minor": 0,
  "metadata": {
    "colab": {
      "provenance": []
    },
    "kernelspec": {
      "name": "python3",
      "display_name": "Python 3"
    },
    "language_info": {
      "name": "python"
    }
  },
  "cells": [
    {
      "cell_type": "markdown",
      "source": [
        "# Import libraries"
      ],
      "metadata": {
        "id": "twDkG8KdCcqW"
      }
    },
    {
      "cell_type": "code",
      "execution_count": null,
      "metadata": {
        "id": "IFQbooev-EVx"
      },
      "outputs": [],
      "source": [
        "#loading dataset\n",
        "import pandas as pd\n",
        "import numpy as np\n",
        "#visualisation\n",
        "import matplotlib.pyplot as plt\n",
        "%matplotlib inline\n",
        "import seaborn as snsُُ\n",
        "# data preprocessing\n",
        "from sklearn.preprocessing import StandardScaler\n",
        "# data splitting\n",
        "from sklearn.model_selection import train_test_split\n",
        "# data modeling\n",
        "from sklearn import metrics\n",
        "from sklearn.metrics import confusion_matrix,accuracy_score,roc_curve,classification_report\n",
        "from sklearn.linear_model import LogisticRegression\n",
        "# Decomposition\n",
        "from math import copysign, hypot\n",
        "import time\n"
      ]
    },
    {
      "cell_type": "markdown",
      "source": [
        "# Data preprocessing"
      ],
      "metadata": {
        "id": "RZeX7uioC_CO"
      }
    },
    {
      "cell_type": "code",
      "source": [
        "data = pd.read_csv('/content/heart.csv')\n",
        "data.head()\n",
        "\n"
      ],
      "metadata": {
        "colab": {
          "base_uri": "https://localhost:8080/",
          "height": 206
        },
        "id": "uNblwtZ2-dl2",
        "outputId": "7fb55799-0631-4e5a-cae5-e984700f280f"
      },
      "execution_count": null,
      "outputs": [
        {
          "output_type": "execute_result",
          "data": {
            "text/plain": [
              "   age  sex  cp  trestbps  chol  fbs  restecg  thalach  exang  oldpeak  slope  \\\n",
              "0   63    1   3       145   233    1        0      150      0      2.3      0   \n",
              "1   37    1   2       130   250    0        1      187      0      3.5      0   \n",
              "2   41    0   1       130   204    0        0      172      0      1.4      2   \n",
              "3   56    1   1       120   236    0        1      178      0      0.8      2   \n",
              "4   57    0   0       120   354    0        1      163      1      0.6      2   \n",
              "\n",
              "   ca  thal  target  \n",
              "0   0     1       1  \n",
              "1   0     2       1  \n",
              "2   0     2       1  \n",
              "3   0     2       1  \n",
              "4   0     2       1  "
            ],
            "text/html": [
              "\n",
              "  <div id=\"df-46f7cbe1-8e5c-408c-a734-82bc67b2cb7a\">\n",
              "    <div class=\"colab-df-container\">\n",
              "      <div>\n",
              "<style scoped>\n",
              "    .dataframe tbody tr th:only-of-type {\n",
              "        vertical-align: middle;\n",
              "    }\n",
              "\n",
              "    .dataframe tbody tr th {\n",
              "        vertical-align: top;\n",
              "    }\n",
              "\n",
              "    .dataframe thead th {\n",
              "        text-align: right;\n",
              "    }\n",
              "</style>\n",
              "<table border=\"1\" class=\"dataframe\">\n",
              "  <thead>\n",
              "    <tr style=\"text-align: right;\">\n",
              "      <th></th>\n",
              "      <th>age</th>\n",
              "      <th>sex</th>\n",
              "      <th>cp</th>\n",
              "      <th>trestbps</th>\n",
              "      <th>chol</th>\n",
              "      <th>fbs</th>\n",
              "      <th>restecg</th>\n",
              "      <th>thalach</th>\n",
              "      <th>exang</th>\n",
              "      <th>oldpeak</th>\n",
              "      <th>slope</th>\n",
              "      <th>ca</th>\n",
              "      <th>thal</th>\n",
              "      <th>target</th>\n",
              "    </tr>\n",
              "  </thead>\n",
              "  <tbody>\n",
              "    <tr>\n",
              "      <th>0</th>\n",
              "      <td>63</td>\n",
              "      <td>1</td>\n",
              "      <td>3</td>\n",
              "      <td>145</td>\n",
              "      <td>233</td>\n",
              "      <td>1</td>\n",
              "      <td>0</td>\n",
              "      <td>150</td>\n",
              "      <td>0</td>\n",
              "      <td>2.3</td>\n",
              "      <td>0</td>\n",
              "      <td>0</td>\n",
              "      <td>1</td>\n",
              "      <td>1</td>\n",
              "    </tr>\n",
              "    <tr>\n",
              "      <th>1</th>\n",
              "      <td>37</td>\n",
              "      <td>1</td>\n",
              "      <td>2</td>\n",
              "      <td>130</td>\n",
              "      <td>250</td>\n",
              "      <td>0</td>\n",
              "      <td>1</td>\n",
              "      <td>187</td>\n",
              "      <td>0</td>\n",
              "      <td>3.5</td>\n",
              "      <td>0</td>\n",
              "      <td>0</td>\n",
              "      <td>2</td>\n",
              "      <td>1</td>\n",
              "    </tr>\n",
              "    <tr>\n",
              "      <th>2</th>\n",
              "      <td>41</td>\n",
              "      <td>0</td>\n",
              "      <td>1</td>\n",
              "      <td>130</td>\n",
              "      <td>204</td>\n",
              "      <td>0</td>\n",
              "      <td>0</td>\n",
              "      <td>172</td>\n",
              "      <td>0</td>\n",
              "      <td>1.4</td>\n",
              "      <td>2</td>\n",
              "      <td>0</td>\n",
              "      <td>2</td>\n",
              "      <td>1</td>\n",
              "    </tr>\n",
              "    <tr>\n",
              "      <th>3</th>\n",
              "      <td>56</td>\n",
              "      <td>1</td>\n",
              "      <td>1</td>\n",
              "      <td>120</td>\n",
              "      <td>236</td>\n",
              "      <td>0</td>\n",
              "      <td>1</td>\n",
              "      <td>178</td>\n",
              "      <td>0</td>\n",
              "      <td>0.8</td>\n",
              "      <td>2</td>\n",
              "      <td>0</td>\n",
              "      <td>2</td>\n",
              "      <td>1</td>\n",
              "    </tr>\n",
              "    <tr>\n",
              "      <th>4</th>\n",
              "      <td>57</td>\n",
              "      <td>0</td>\n",
              "      <td>0</td>\n",
              "      <td>120</td>\n",
              "      <td>354</td>\n",
              "      <td>0</td>\n",
              "      <td>1</td>\n",
              "      <td>163</td>\n",
              "      <td>1</td>\n",
              "      <td>0.6</td>\n",
              "      <td>2</td>\n",
              "      <td>0</td>\n",
              "      <td>2</td>\n",
              "      <td>1</td>\n",
              "    </tr>\n",
              "  </tbody>\n",
              "</table>\n",
              "</div>\n",
              "      <button class=\"colab-df-convert\" onclick=\"convertToInteractive('df-46f7cbe1-8e5c-408c-a734-82bc67b2cb7a')\"\n",
              "              title=\"Convert this dataframe to an interactive table.\"\n",
              "              style=\"display:none;\">\n",
              "        \n",
              "  <svg xmlns=\"http://www.w3.org/2000/svg\" height=\"24px\"viewBox=\"0 0 24 24\"\n",
              "       width=\"24px\">\n",
              "    <path d=\"M0 0h24v24H0V0z\" fill=\"none\"/>\n",
              "    <path d=\"M18.56 5.44l.94 2.06.94-2.06 2.06-.94-2.06-.94-.94-2.06-.94 2.06-2.06.94zm-11 1L8.5 8.5l.94-2.06 2.06-.94-2.06-.94L8.5 2.5l-.94 2.06-2.06.94zm10 10l.94 2.06.94-2.06 2.06-.94-2.06-.94-.94-2.06-.94 2.06-2.06.94z\"/><path d=\"M17.41 7.96l-1.37-1.37c-.4-.4-.92-.59-1.43-.59-.52 0-1.04.2-1.43.59L10.3 9.45l-7.72 7.72c-.78.78-.78 2.05 0 2.83L4 21.41c.39.39.9.59 1.41.59.51 0 1.02-.2 1.41-.59l7.78-7.78 2.81-2.81c.8-.78.8-2.07 0-2.86zM5.41 20L4 18.59l7.72-7.72 1.47 1.35L5.41 20z\"/>\n",
              "  </svg>\n",
              "      </button>\n",
              "      \n",
              "  <style>\n",
              "    .colab-df-container {\n",
              "      display:flex;\n",
              "      flex-wrap:wrap;\n",
              "      gap: 12px;\n",
              "    }\n",
              "\n",
              "    .colab-df-convert {\n",
              "      background-color: #E8F0FE;\n",
              "      border: none;\n",
              "      border-radius: 50%;\n",
              "      cursor: pointer;\n",
              "      display: none;\n",
              "      fill: #1967D2;\n",
              "      height: 32px;\n",
              "      padding: 0 0 0 0;\n",
              "      width: 32px;\n",
              "    }\n",
              "\n",
              "    .colab-df-convert:hover {\n",
              "      background-color: #E2EBFA;\n",
              "      box-shadow: 0px 1px 2px rgba(60, 64, 67, 0.3), 0px 1px 3px 1px rgba(60, 64, 67, 0.15);\n",
              "      fill: #174EA6;\n",
              "    }\n",
              "\n",
              "    [theme=dark] .colab-df-convert {\n",
              "      background-color: #3B4455;\n",
              "      fill: #D2E3FC;\n",
              "    }\n",
              "\n",
              "    [theme=dark] .colab-df-convert:hover {\n",
              "      background-color: #434B5C;\n",
              "      box-shadow: 0px 1px 3px 1px rgba(0, 0, 0, 0.15);\n",
              "      filter: drop-shadow(0px 1px 2px rgba(0, 0, 0, 0.3));\n",
              "      fill: #FFFFFF;\n",
              "    }\n",
              "  </style>\n",
              "\n",
              "      <script>\n",
              "        const buttonEl =\n",
              "          document.querySelector('#df-46f7cbe1-8e5c-408c-a734-82bc67b2cb7a button.colab-df-convert');\n",
              "        buttonEl.style.display =\n",
              "          google.colab.kernel.accessAllowed ? 'block' : 'none';\n",
              "\n",
              "        async function convertToInteractive(key) {\n",
              "          const element = document.querySelector('#df-46f7cbe1-8e5c-408c-a734-82bc67b2cb7a');\n",
              "          const dataTable =\n",
              "            await google.colab.kernel.invokeFunction('convertToInteractive',\n",
              "                                                     [key], {});\n",
              "          if (!dataTable) return;\n",
              "\n",
              "          const docLinkHtml = 'Like what you see? Visit the ' +\n",
              "            '<a target=\"_blank\" href=https://colab.research.google.com/notebooks/data_table.ipynb>data table notebook</a>'\n",
              "            + ' to learn more about interactive tables.';\n",
              "          element.innerHTML = '';\n",
              "          dataTable['output_type'] = 'display_data';\n",
              "          await google.colab.output.renderOutput(dataTable, element);\n",
              "          const docLink = document.createElement('div');\n",
              "          docLink.innerHTML = docLinkHtml;\n",
              "          element.appendChild(docLink);\n",
              "        }\n",
              "      </script>\n",
              "    </div>\n",
              "  </div>\n",
              "  "
            ]
          },
          "metadata": {},
          "execution_count": 33
        }
      ]
    },
    {
      "cell_type": "code",
      "source": [
        "data.info()"
      ],
      "metadata": {
        "colab": {
          "base_uri": "https://localhost:8080/"
        },
        "id": "ThOEmHwu-krR",
        "outputId": "8087fa46-1ace-4f95-a911-14ca9a987642"
      },
      "execution_count": null,
      "outputs": [
        {
          "output_type": "stream",
          "name": "stdout",
          "text": [
            "<class 'pandas.core.frame.DataFrame'>\n",
            "RangeIndex: 303 entries, 0 to 302\n",
            "Data columns (total 14 columns):\n",
            " #   Column    Non-Null Count  Dtype  \n",
            "---  ------    --------------  -----  \n",
            " 0   age       303 non-null    int64  \n",
            " 1   sex       303 non-null    int64  \n",
            " 2   cp        303 non-null    int64  \n",
            " 3   trestbps  303 non-null    int64  \n",
            " 4   chol      303 non-null    int64  \n",
            " 5   fbs       303 non-null    int64  \n",
            " 6   restecg   303 non-null    int64  \n",
            " 7   thalach   303 non-null    int64  \n",
            " 8   exang     303 non-null    int64  \n",
            " 9   oldpeak   303 non-null    float64\n",
            " 10  slope     303 non-null    int64  \n",
            " 11  ca        303 non-null    int64  \n",
            " 12  thal      303 non-null    int64  \n",
            " 13  target    303 non-null    int64  \n",
            "dtypes: float64(1), int64(13)\n",
            "memory usage: 33.3 KB\n"
          ]
        }
      ]
    },
    {
      "cell_type": "code",
      "source": [
        "#Model prepration\n",
        "y = data[\"target\"]\n",
        "X = data.drop('target',axis=1)\n",
        "X_train, X_test, y_train, y_test = train_test_split(X, y, test_size=0.20, random_state = 0)\n"
      ],
      "metadata": {
        "id": "aZBHGJX_-rHk"
      },
      "execution_count": null,
      "outputs": []
    },
    {
      "cell_type": "code",
      "source": [
        "#check for imbalanceness\n",
        "print(y_test.unique())\n",
        "Counter(y_train)"
      ],
      "metadata": {
        "colab": {
          "base_uri": "https://localhost:8080/"
        },
        "id": "Q1wCUzGl-2Le",
        "outputId": "483dfca7-b79c-4291-9e6b-f197541257c4"
      },
      "execution_count": null,
      "outputs": [
        {
          "output_type": "stream",
          "name": "stdout",
          "text": [
            "[0 1]\n"
          ]
        },
        {
          "output_type": "execute_result",
          "data": {
            "text/plain": [
              "Counter({1: 131, 0: 111})"
            ]
          },
          "metadata": {},
          "execution_count": 36
        }
      ]
    },
    {
      "cell_type": "code",
      "source": [
        "#Scaling data\n",
        "scaler = StandardScaler()\n",
        "X_train = scaler.fit_transform(X_train)\n",
        "X_test = scaler.transform(X_test)"
      ],
      "metadata": {
        "id": "mV9vuxgD_Hcj"
      },
      "execution_count": null,
      "outputs": []
    },
    {
      "cell_type": "markdown",
      "source": [
        "# Apply logistic regression for prediction"
      ],
      "metadata": {
        "id": "GWPDx8bLDFRc"
      }
    },
    {
      "cell_type": "code",
      "source": [
        "#Apply Losistic Regression model\n",
        "m1 = 'Logistic Regression'\n",
        "lr = LogisticRegression()\n",
        "model = lr.fit(X_train, y_train)\n",
        "lr_predict = lr.predict(X_test)\n",
        "lr_conf_matrix = confusion_matrix(y_test, lr_predict)\n",
        "lr_acc_score = accuracy_score(y_test, lr_predict)\n",
        "print(\"confussion matrix:\")\n",
        "print(\"\\n\")\n",
        "cm_display = metrics.ConfusionMatrixDisplay(confusion_matrix = lr_conf_matrix, display_labels = [False, True])\n",
        "cm_display.plot()\n",
        "plt.show()\n",
        "print(\"\\n\")\n",
        "print(\"Accuracy of Logistic Regression:\",lr_acc_score*100,'\\n')\n",
        "print(classification_report(y_test,lr_predict))"
      ],
      "metadata": {
        "colab": {
          "base_uri": "https://localhost:8080/",
          "height": 565
        },
        "id": "O9WS2cua_SdP",
        "outputId": "f72b9853-36e5-4a6f-b69f-0b0110e9f8d0"
      },
      "execution_count": null,
      "outputs": [
        {
          "output_type": "stream",
          "name": "stdout",
          "text": [
            "confussion matrix:\n",
            "\n",
            "\n"
          ]
        },
        {
          "output_type": "display_data",
          "data": {
            "text/plain": [
              "<Figure size 432x288 with 2 Axes>"
            ],
            "image/png": "[encoded data removed]"
          },
          "metadata": {
            "needs_background": "light"
          }
        },
        {
          "output_type": "stream",
          "name": "stdout",
          "text": [
            "\n",
            "\n",
            "Accuracy of Logistic Regression: 85.24590163934425 \n",
            "\n",
            "              precision    recall  f1-score   support\n",
            "\n",
            "           0       0.88      0.78      0.82        27\n",
            "           1       0.84      0.91      0.87        34\n",
            "\n",
            "    accuracy                           0.85        61\n",
            "   macro avg       0.86      0.84      0.85        61\n",
            "weighted avg       0.85      0.85      0.85        61\n",
            "\n"
          ]
        }
      ]
    },
    {
      "cell_type": "markdown",
      "source": [
        "# QR Decomposition Functions"
      ],
      "metadata": {
        "id": "ew0wy-zZDfAz"
      }
    },
    {
      "cell_type": "markdown",
      "source": [
        "## Gram Schmidt"
      ],
      "metadata": {
        "id": "aBDE1jg6W8ng"
      }
    },
    {
      "cell_type": "code",
      "source": [
        "def gram_schmidt_process(A):\n",
        "    m, n = A.shape\n",
        "    Q = np.zeros((m, n))\n",
        "    R = np.zeros((n, n))\n",
        "\n",
        "    for j in range(n):\n",
        "        v = A[:, j]\n",
        "\n",
        "        for i in range(j - 1):\n",
        "            q = Q[:, i]\n",
        "            R[i, j] = q.dot(v)\n",
        "            v = v - R[i, j] * q\n",
        "\n",
        "        norm = np.linalg.norm(v)\n",
        "        Q[:, j] = v / norm\n",
        "        R[j, j] = norm\n",
        "    return Q, R"
      ],
      "metadata": {
        "id": "XARpFgfUBqAP"
      },
      "execution_count": null,
      "outputs": []
    },
    {
      "cell_type": "markdown",
      "source": [
        "## Gram Schmidt Test"
      ],
      "metadata": {
        "id": "_Ql_WQOvXD9-"
      }
    },
    {
      "cell_type": "code",
      "source": [
        "# Compute QR decomposition using Gram Schmidt\n",
        "(Q, R) = gram_schmidt_process(X_train)\n",
        "\n",
        "# Print orthogonal matrix Q\n",
        "print('\\n Q is: \\n', Q)\n",
        "\n",
        "# Print upper triangular matrix R\n",
        "print('\\n R is: \\n', R)"
      ],
      "metadata": {
        "colab": {
          "base_uri": "https://localhost:8080/"
        },
        "id": "lOWCzPSWXAez",
        "outputId": "a6475baf-92b0-4155-8edf-e5d5b0b1e0db"
      },
      "execution_count": null,
      "outputs": [
        {
          "output_type": "stream",
          "name": "stdout",
          "text": [
            "\n",
            " Q is: \n",
            " [[-0.0853499  -0.09233632  0.05700906 ... -0.07376818  0.00676252\n",
            "   0.00719933]\n",
            " [ 0.0802908  -0.09233632  0.06972005 ... -0.05116278  0.03330044\n",
            "   0.00093446]\n",
            " [ 0.02267665  0.04475196  0.06529884 ...  0.06053865 -0.06121312\n",
            "  -0.00418841]\n",
            " ...\n",
            " [ 0.00827311  0.04475196  0.12571833 ... -0.06177094 -0.04470273\n",
            "   0.08953141]\n",
            " [-0.05654282  0.04475196  0.05921967 ...  0.06147842 -0.02417394\n",
            "  -0.02547766]\n",
            " [ 0.02267665  0.04475196  0.00377405 ... -0.06743023 -0.06648789\n",
            "  -0.04230813]]\n",
            "\n",
            " R is: \n",
            " [[15.55634919  0.         -1.19026896  3.81477031  3.49894954  2.13219252\n",
            "  -1.07364966 -6.1869868   1.13011277  2.57516426 -2.56588253  4.26553842\n",
            "   0.71058883]\n",
            " [ 0.         15.55634919  0.         -0.75521421 -2.39590462  0.53760161\n",
            "  -1.38003767 -1.39939573  2.87441357  2.00186471 -1.11468765  2.55577727\n",
            "   3.13335615]\n",
            " [ 0.          0.         15.51074659  0.         -0.62951031  1.79184302\n",
            "  -0.04844076  4.11847481 -6.26411074 -1.95392714  1.53999677 -2.42779065\n",
            "  -2.45305866]\n",
            " [ 0.          0.          0.         15.06244266  0.          1.97807006\n",
            "  -1.89053946  0.22443702  1.40869226  2.50604529 -1.00704983  0.95806408\n",
            "   0.6067496 ]\n",
            " [ 0.          0.          0.          0.         14.95395299  0.\n",
            "  -1.59250219  1.31471941  0.51023699  0.35237027  0.43294559 -0.29931871\n",
            "   1.68538176]\n",
            " [ 0.          0.          0.          0.          0.         15.16711169\n",
            "   0.         -0.37801286  0.66941989 -0.68029548 -1.06648223  1.23989518\n",
            "  -1.31172437]\n",
            " [ 0.          0.          0.          0.          0.          0.\n",
            "  15.25877529  0.          0.30889308  0.36859313  0.62307607 -0.2979784\n",
            "   0.55293819]\n",
            " [ 0.          0.          0.          0.          0.          0.\n",
            "   0.         13.52328726  0.         -4.08017315  5.30485912 -1.00661043\n",
            "  -0.06485735]\n",
            " [ 0.          0.          0.          0.          0.          0.\n",
            "   0.          0.         13.79975416  0.         -1.90012718 -0.72202201\n",
            "   1.92776937]\n",
            " [ 0.          0.          0.          0.          0.          0.\n",
            "   0.          0.          0.         14.27908722  0.          2.18386905\n",
            "   1.72296206]\n",
            " [ 0.          0.          0.          0.          0.          0.\n",
            "   0.          0.          0.          0.         14.04716752  0.\n",
            "   0.44610602]\n",
            " [ 0.          0.          0.          0.          0.          0.\n",
            "   0.          0.          0.          0.          0.         14.22819535\n",
            "   0.        ]\n",
            " [ 0.          0.          0.          0.          0.          0.\n",
            "   0.          0.          0.          0.          0.          0.\n",
            "  14.61288875]]\n"
          ]
        }
      ]
    },
    {
      "cell_type": "code",
      "source": [
        "#Apply Losistic Regression model\n",
        "m2 = 'Logistic Regression with gram schmit'\n",
        "lr = LogisticRegression()\n",
        "model = lr.fit(Q, y_train)\n",
        "lr_predict = lr.predict(X_test)\n",
        "lr_conf_matrix = confusion_matrix(y_test, lr_predict)\n",
        "lr_acc_score = accuracy_score(y_test, lr_predict)\n",
        "print(\"confussion matrix:\")\n",
        "print(\"\\n\")\n",
        "cm_display = metrics.ConfusionMatrixDisplay(confusion_matrix = lr_conf_matrix, display_labels = [False, True])\n",
        "cm_display.plot()\n",
        "plt.show()\n",
        "print(\"\\n\")\n",
        "print(\"Accuracy of Logistic Regression:\",lr_acc_score*100,'\\n')\n",
        "print(classification_report(y_test,lr_predict))"
      ],
      "metadata": {
        "colab": {
          "base_uri": "https://localhost:8080/",
          "height": 565
        },
        "id": "0Z6S0fSGXZwG",
        "outputId": "6c77169b-505d-4c7a-a3eb-c7f8c89bc4c0"
      },
      "execution_count": null,
      "outputs": [
        {
          "output_type": "stream",
          "name": "stdout",
          "text": [
            "confussion matrix:\n",
            "\n",
            "\n"
          ]
        },
        {
          "output_type": "display_data",
          "data": {
            "text/plain": [
              "<Figure size 432x288 with 2 Axes>"
            ],
            "image/png": "[encoded data removed]"
          },
          "metadata": {
            "needs_background": "light"
          }
        },
        {
          "output_type": "stream",
          "name": "stdout",
          "text": [
            "\n",
            "\n",
            "Accuracy of Logistic Regression: 83.60655737704919 \n",
            "\n",
            "              precision    recall  f1-score   support\n",
            "\n",
            "           0       0.81      0.81      0.81        27\n",
            "           1       0.85      0.85      0.85        34\n",
            "\n",
            "    accuracy                           0.84        61\n",
            "   macro avg       0.83      0.83      0.83        61\n",
            "weighted avg       0.84      0.84      0.84        61\n",
            "\n"
          ]
        }
      ]
    },
    {
      "cell_type": "markdown",
      "source": [
        "## Givens Rotation"
      ],
      "metadata": {
        "id": "f2tKs6Jeb1rz"
      }
    },
    {
      "cell_type": "code",
      "source": [
        "def givens_rotation(A):\n",
        "    \"\"\"\n",
        "    QR-decomposition of rectangular matrix A using the Givens rotation method.\n",
        "    \"\"\"\n",
        "\n",
        "    # Initialization of the orthogonal matrix Q and the upper triangular matrix R\n",
        "    n, m = A.shape\n",
        "    Q = np.eye(n)\n",
        "    R = np.copy(A)\n",
        "\n",
        "    rows, cols = np.tril_indices(n, -1, m)\n",
        "    for (row, col) in zip(rows, cols):\n",
        "        # If the subdiagonal element is nonzero, then compute the nonzero\n",
        "        # components of the rotation matrix\n",
        "        if R[row, col] != 0:\n",
        "            r = np.sqrt(R[col, col]**2 + R[row, col]**2)\n",
        "            c, s = R[col, col]/r, -R[row, col]/r\n",
        "\n",
        "            # The rotation matrix is highly discharged, so it makes no sense\n",
        "            # to calculate the total matrix product\n",
        "            R[col], R[row] = R[col]*c + R[row]*(-s), R[col]*s + R[row]*c\n",
        "            Q[:, col], Q[:, row] = Q[:, col]*c + Q[:, row]*(-s), Q[:, col]*s + Q[:, row]*c\n",
        "\n",
        "    return Q[:, :m], R[:m]"
      ],
      "metadata": {
        "id": "evcKZ6jbZs6W"
      },
      "execution_count": null,
      "outputs": []
    },
    {
      "cell_type": "markdown",
      "source": [
        "## Givens Rotation test\n"
      ],
      "metadata": {
        "id": "E-WzQ0jPb-jU"
      }
    },
    {
      "cell_type": "code",
      "source": [
        "# Compute QR decomposition using Givens rotation\n",
        "(Q, R) = givens_rotation(X_train)\n",
        "\n",
        "# Print orthogonal matrix Q\n",
        "print('\\n Q is: \\n', Q)\n",
        "\n",
        "# Print upper triangular matrix R\n",
        "print('\\n R is: \\n', R)"
      ],
      "metadata": {
        "colab": {
          "base_uri": "https://localhost:8080/"
        },
        "id": "fSjgCKsLb61P",
        "outputId": "c4275f47-b424-4251-c7fc-74890df64cf1"
      },
      "execution_count": null,
      "outputs": [
        {
          "output_type": "stream",
          "name": "stdout",
          "text": [
            "\n",
            " Q is: \n",
            " [[-0.0853499  -0.10295669  0.04956401 ... -0.09608529  0.01741921\n",
            "   0.00948583]\n",
            " [ 0.0802908  -0.08356883  0.06374078 ... -0.0932802   0.04091995\n",
            "  -0.00130726]\n",
            " [ 0.02267665  0.04771172  0.06899855 ...  0.04726145 -0.06604627\n",
            "  -0.00274579]\n",
            " ...\n",
            " [ 0.00827311  0.04602582  0.12945798 ... -0.02758422 -0.04137257\n",
            "   0.09078838]\n",
            " [-0.05654282  0.03843927  0.06221835 ...  0.03566405 -0.02783619\n",
            "  -0.02080364]\n",
            " [ 0.02267665  0.04771172  0.00730635 ... -0.04056069 -0.06356453\n",
            "  -0.04201296]]\n",
            "\n",
            " R is: \n",
            " [[ 1.55563492e+01 -1.80848862e+00 -1.19026896e+00  3.81477031e+00\n",
            "   3.49894954e+00  2.13219252e+00 -1.07364966e+00 -6.18698680e+00\n",
            "   1.13011277e+00  2.57516426e+00 -2.56588253e+00  4.26553842e+00\n",
            "   7.10588828e-01]\n",
            " [-6.83187429e-17  1.54508695e+01 -1.14188249e+00 -7.60369894e-01\n",
            "  -2.41226093e+00  5.41271700e-01 -1.38945888e+00 -1.40894909e+00\n",
            "   2.89403655e+00  2.01553100e+00 -1.12229737e+00  2.57322500e+00\n",
            "   3.15474688e+00]\n",
            " [ 1.84971834e-16 -1.06001540e-17  1.54686575e+01  5.46042555e-01\n",
            "  -6.33629793e-01  1.79725851e+00 -4.99587825e-02  4.12827522e+00\n",
            "  -6.27826766e+00 -1.95723281e+00  1.54306732e+00 -2.43182928e+00\n",
            "  -2.45658587e+00]\n",
            " [-5.23797560e-17  1.94076768e-16 -8.71481089e-17  1.50522823e+01\n",
            "   1.34792985e+00  1.97949202e+00 -1.89270678e+00  2.23072667e-01\n",
            "   1.41243428e+00  2.50932696e+00 -1.00868138e+00  9.60731028e-01\n",
            "   6.09559080e-01]\n",
            " [-7.43475065e-17  4.56911596e-17 -8.65591648e-17 -2.95106725e-17\n",
            "   1.48902635e+01 -1.86897645e-02 -1.60230841e+00  1.31894630e+00\n",
            "   5.16134309e-01  3.57405801e-01  4.33006919e-01 -2.96014100e-01\n",
            "   1.69843740e+00]\n",
            " [-6.21978729e-17 -3.53663090e-17 -7.83511768e-17  4.13485830e-18\n",
            "  -1.92219733e-16  1.51661433e+01 -1.55039658e+00 -3.79980522e-01\n",
            "   6.71308404e-01 -6.80919838e-01 -1.06666582e+00  1.23967974e+00\n",
            "  -1.31263995e+00]\n",
            " [ 1.22346625e-16 -5.69513865e-17  2.38230104e-17 -1.24575553e-16\n",
            "  -1.00438315e-16  1.16831220e-16  1.51776389e+01 -4.36240842e-01\n",
            "   3.15203008e-01  3.74376384e-01  6.25201172e-01 -2.96155403e-01\n",
            "   5.62472188e-01]\n",
            " [-6.08181503e-17  1.60084110e-17 -3.96102105e-17 -2.91279548e-17\n",
            "  -6.04796264e-18  4.24518584e-17 -6.16158268e-17  1.35118218e+01\n",
            "  -3.47274549e+00 -4.07862891e+00  5.30553682e+00 -1.00084412e+00\n",
            "  -5.91978067e-02]\n",
            " [-1.01022490e-16 -3.17883745e-17  1.28706315e-16 -1.45677450e-16\n",
            "  -8.44967291e-17 -1.03435604e-16  2.75075022e-17  8.38787117e-18\n",
            "   1.33438907e+01  2.15800323e+00 -1.96229628e+00 -7.57083593e-01\n",
            "   1.97966606e+00]\n",
            " [-8.00307095e-18 -6.50728858e-17  4.46824399e-18 -7.37230213e-19\n",
            "   8.05332404e-17 -9.66701297e-18  1.25081471e-16  1.48067164e-17\n",
            "   9.56490400e-17  1.41122267e+01 -7.18716430e+00  2.21344210e+00\n",
            "   1.71901710e+00]\n",
            " [-1.19411090e-17  1.71237828e-17  9.97365598e-17  1.36031861e-17\n",
            "   9.55143010e-17  8.98030051e-17 -2.73764164e-17  4.34412403e-17\n",
            "   5.67624316e-17 -1.12287945e-16  1.20576695e+01  1.48503384e+00\n",
            "   5.46534150e-01]\n",
            " [-5.25298112e-17 -2.75216323e-17  7.65539787e-17  1.94631563e-16\n",
            "   5.06534874e-17 -5.51003918e-17  6.63705415e-17 -1.34489656e-16\n",
            "   3.67436273e-17  4.24016275e-17 -2.65252908e-17  1.41405531e+01\n",
            "   7.94357754e-01]\n",
            " [-5.34595408e-19 -4.98313456e-17 -4.79732078e-18  3.77857612e-17\n",
            "   1.69594464e-16 -1.24197154e-16 -5.78933342e-17 -4.97163091e-17\n",
            "  -5.56474320e-17 -7.50914812e-17  9.60810882e-17  1.16676466e-18\n",
            "   1.45741163e+01]]\n"
          ]
        }
      ]
    },
    {
      "cell_type": "code",
      "source": [
        "#Apply Losistic Regression model\n",
        "m3 = 'Logistic Regression with Givens Rotation'\n",
        "lr = LogisticRegression()\n",
        "model = lr.fit(Q, y_train)\n",
        "lr_predict = lr.predict(X_test)\n",
        "lr_conf_matrix = confusion_matrix(y_test, lr_predict)\n",
        "lr_acc_score = accuracy_score(y_test, lr_predict)\n",
        "print(\"confussion matrix:\")\n",
        "print(\"\\n\")\n",
        "cm_display = metrics.ConfusionMatrixDisplay(confusion_matrix = lr_conf_matrix, display_labels = [False, True])\n",
        "cm_display.plot()\n",
        "plt.show()\n",
        "print(\"\\n\")\n",
        "print(\"Accuracy of Logistic Regression:\",lr_acc_score*100,'\\n')\n",
        "print(classification_report(y_test,lr_predict))"
      ],
      "metadata": {
        "colab": {
          "base_uri": "https://localhost:8080/",
          "height": 565
        },
        "id": "LkT9SUR3cM6C",
        "outputId": "e7223ff3-6532-497f-c742-38c1c5d234f4"
      },
      "execution_count": null,
      "outputs": [
        {
          "output_type": "stream",
          "name": "stdout",
          "text": [
            "confussion matrix:\n",
            "\n",
            "\n"
          ]
        },
        {
          "output_type": "display_data",
          "data": {
            "text/plain": [
              "<Figure size 432x288 with 2 Axes>"
            ],
            "image/png": "[encoded data removed]"
          },
          "metadata": {
            "needs_background": "light"
          }
        },
        {
          "output_type": "stream",
          "name": "stdout",
          "text": [
            "\n",
            "\n",
            "Accuracy of Logistic Regression: 81.9672131147541 \n",
            "\n",
            "              precision    recall  f1-score   support\n",
            "\n",
            "           0       0.81      0.78      0.79        27\n",
            "           1       0.83      0.85      0.84        34\n",
            "\n",
            "    accuracy                           0.82        61\n",
            "   macro avg       0.82      0.82      0.82        61\n",
            "weighted avg       0.82      0.82      0.82        61\n",
            "\n"
          ]
        }
      ]
    },
    {
      "cell_type": "markdown",
      "source": [
        "## Runtime Analysis"
      ],
      "metadata": {
        "id": "uCVOZKPFiAC7"
      }
    },
    {
      "cell_type": "code",
      "source": [
        "np.set_printoptions(precision=4, suppress=True)\n",
        "A = np.random.standard_normal(size=(100, 100))\n",
        "\n",
        "#runtime without QR\n",
        "start_time = time.time()\n",
        "lr = LogisticRegression()\n",
        "model = lr.fit(X_train, y_train)\n",
        "lr_predict = lr.predict(X_test)\n",
        "lr_conf_matrix = confusion_matrix(y_test, lr_predict)\n",
        "lr_acc_score = accuracy_score(y_test, lr_predict)\n",
        "print('without QR decomposition runtime:',round((time.time() - start_time),2),'s')\n",
        "\n",
        "#runtime with Gram schmidt\n",
        "start_time = time.time()\n",
        "(Q, R) = gram_schmidt_process(X_train)\n",
        "lr = LogisticRegression()\n",
        "model = lr.fit(Q, y_train)\n",
        "lr_predict = lr.predict(X_test)\n",
        "lr_conf_matrix = confusion_matrix(y_test, lr_predict)\n",
        "lr_acc_score = accuracy_score(y_test, lr_predict)\n",
        "print('gram_schmidt_process algortithm runtime:',round((time.time() - start_time),2),'s')\n",
        "\n",
        "#runtime with Given rotation\n",
        "start_time = time.time()\n",
        "(Q, R) = givens_rotation(X_train)\n",
        "lr = LogisticRegression()\n",
        "model = lr.fit(Q, y_train)\n",
        "lr_predict = lr.predict(X_test)\n",
        "lr_conf_matrix = confusion_matrix(y_test, lr_predict)\n",
        "lr_acc_score = accuracy_score(y_test, lr_predict)\n",
        "print('givens_rotation algortithm runtime:',round((time.time() - start_time),2),'s')"
      ],
      "metadata": {
        "colab": {
          "base_uri": "https://localhost:8080/"
        },
        "id": "nQhhcxBOhVCl",
        "outputId": "0b021224-e6cc-4d66-a01b-f8bf43aaa445"
      },
      "execution_count": null,
      "outputs": [
        {
          "output_type": "stream",
          "name": "stdout",
          "text": [
            "without QR decomposition runtime: 0.03 s\n",
            "gram_schmidt_process algortithm runtime: 0.01 s\n",
            "givens_rotation algortithm runtime: 0.16 s\n"
          ]
        }
      ]
    },
    {
      "cell_type": "code",
      "source": [
        "import pandas as pd\n",
        "conclusion = pd.DataFrame([[85.24 ,83.60 ,81.96],\n",
        "              [6 ,5 ,6],\n",
        "              [3 ,5 ,5],\n",
        "              ['0.0.3 s' ,'0.01 s' ,'0.16 s']],\n",
        "              index=['Accuracy', \"FP\", \"FN\", \"runtime\"],\n",
        "              columns=['without using QR', 'Gram schmidt', 'Givens Rotation'])\n",
        "conclusion\n"
      ],
      "metadata": {
        "colab": {
          "base_uri": "https://localhost:8080/",
          "height": 175
        },
        "id": "VMhJPiK0icYy",
        "outputId": "b76d58a7-c724-4d48-9f37-cb3e7f2162dd"
      },
      "execution_count": null,
      "outputs": [
        {
          "output_type": "execute_result",
          "data": {
            "text/plain": [
              "         without using QR Gram schmidt Givens Rotation\n",
              "Accuracy            85.24         83.6           81.96\n",
              "FP                      6            5               6\n",
              "FN                      3            5               5\n",
              "runtime           0.0.3 s       0.01 s          0.16 s"
            ],
            "text/html": [
              "\n",
              "  <div id=\"df-ae2a313e-613d-4922-b445-804e77010685\">\n",
              "    <div class=\"colab-df-container\">\n",
              "      <div>\n",
              "<style scoped>\n",
              "    .dataframe tbody tr th:only-of-type {\n",
              "        vertical-align: middle;\n",
              "    }\n",
              "\n",
              "    .dataframe tbody tr th {\n",
              "        vertical-align: top;\n",
              "    }\n",
              "\n",
              "    .dataframe thead th {\n",
              "        text-align: right;\n",
              "    }\n",
              "</style>\n",
              "<table border=\"1\" class=\"dataframe\">\n",
              "  <thead>\n",
              "    <tr style=\"text-align: right;\">\n",
              "      <th></th>\n",
              "      <th>without using QR</th>\n",
              "      <th>Gram schmidt</th>\n",
              "      <th>Givens Rotation</th>\n",
              "    </tr>\n",
              "  </thead>\n",
              "  <tbody>\n",
              "    <tr>\n",
              "      <th>Accuracy</th>\n",
              "      <td>85.24</td>\n",
              "      <td>83.6</td>\n",
              "      <td>81.96</td>\n",
              "    </tr>\n",
              "    <tr>\n",
              "      <th>FP</th>\n",
              "      <td>6</td>\n",
              "      <td>5</td>\n",
              "      <td>6</td>\n",
              "    </tr>\n",
              "    <tr>\n",
              "      <th>FN</th>\n",
              "      <td>3</td>\n",
              "      <td>5</td>\n",
              "      <td>5</td>\n",
              "    </tr>\n",
              "    <tr>\n",
              "      <th>runtime</th>\n",
              "      <td>0.0.3 s</td>\n",
              "      <td>0.01 s</td>\n",
              "      <td>0.16 s</td>\n",
              "    </tr>\n",
              "  </tbody>\n",
              "</table>\n",
              "</div>\n",
              "      <button class=\"colab-df-convert\" onclick=\"convertToInteractive('df-ae2a313e-613d-4922-b445-804e77010685')\"\n",
              "              title=\"Convert this dataframe to an interactive table.\"\n",
              "              style=\"display:none;\">\n",
              "        \n",
              "  <svg xmlns=\"http://www.w3.org/2000/svg\" height=\"24px\"viewBox=\"0 0 24 24\"\n",
              "       width=\"24px\">\n",
              "    <path d=\"M0 0h24v24H0V0z\" fill=\"none\"/>\n",
              "    <path d=\"M18.56 5.44l.94 2.06.94-2.06 2.06-.94-2.06-.94-.94-2.06-.94 2.06-2.06.94zm-11 1L8.5 8.5l.94-2.06 2.06-.94-2.06-.94L8.5 2.5l-.94 2.06-2.06.94zm10 10l.94 2.06.94-2.06 2.06-.94-2.06-.94-.94-2.06-.94 2.06-2.06.94z\"/><path d=\"M17.41 7.96l-1.37-1.37c-.4-.4-.92-.59-1.43-.59-.52 0-1.04.2-1.43.59L10.3 9.45l-7.72 7.72c-.78.78-.78 2.05 0 2.83L4 21.41c.39.39.9.59 1.41.59.51 0 1.02-.2 1.41-.59l7.78-7.78 2.81-2.81c.8-.78.8-2.07 0-2.86zM5.41 20L4 18.59l7.72-7.72 1.47 1.35L5.41 20z\"/>\n",
              "  </svg>\n",
              "      </button>\n",
              "      \n",
              "  <style>\n",
              "    .colab-df-container {\n",
              "      display:flex;\n",
              "      flex-wrap:wrap;\n",
              "      gap: 12px;\n",
              "    }\n",
              "\n",
              "    .colab-df-convert {\n",
              "      background-color: #E8F0FE;\n",
              "      border: none;\n",
              "      border-radius: 50%;\n",
              "      cursor: pointer;\n",
              "      display: none;\n",
              "      fill: #1967D2;\n",
              "      height: 32px;\n",
              "      padding: 0 0 0 0;\n",
              "      width: 32px;\n",
              "    }\n",
              "\n",
              "    .colab-df-convert:hover {\n",
              "      background-color: #E2EBFA;\n",
              "      box-shadow: 0px 1px 2px rgba(60, 64, 67, 0.3), 0px 1px 3px 1px rgba(60, 64, 67, 0.15);\n",
              "      fill: #174EA6;\n",
              "    }\n",
              "\n",
              "    [theme=dark] .colab-df-convert {\n",
              "      background-color: #3B4455;\n",
              "      fill: #D2E3FC;\n",
              "    }\n",
              "\n",
              "    [theme=dark] .colab-df-convert:hover {\n",
              "      background-color: #434B5C;\n",
              "      box-shadow: 0px 1px 3px 1px rgba(0, 0, 0, 0.15);\n",
              "      filter: drop-shadow(0px 1px 2px rgba(0, 0, 0, 0.3));\n",
              "      fill: #FFFFFF;\n",
              "    }\n",
              "  </style>\n",
              "\n",
              "      <script>\n",
              "        const buttonEl =\n",
              "          document.querySelector('#df-ae2a313e-613d-4922-b445-804e77010685 button.colab-df-convert');\n",
              "        buttonEl.style.display =\n",
              "          google.colab.kernel.accessAllowed ? 'block' : 'none';\n",
              "\n",
              "        async function convertToInteractive(key) {\n",
              "          const element = document.querySelector('#df-ae2a313e-613d-4922-b445-804e77010685');\n",
              "          const dataTable =\n",
              "            await google.colab.kernel.invokeFunction('convertToInteractive',\n",
              "                                                     [key], {});\n",
              "          if (!dataTable) return;\n",
              "\n",
              "          const docLinkHtml = 'Like what you see? Visit the ' +\n",
              "            '<a target=\"_blank\" href=https://colab.research.google.com/notebooks/data_table.ipynb>data table notebook</a>'\n",
              "            + ' to learn more about interactive tables.';\n",
              "          element.innerHTML = '';\n",
              "          dataTable['output_type'] = 'display_data';\n",
              "          await google.colab.output.renderOutput(dataTable, element);\n",
              "          const docLink = document.createElement('div');\n",
              "          docLink.innerHTML = docLinkHtml;\n",
              "          element.appendChild(docLink);\n",
              "        }\n",
              "      </script>\n",
              "    </div>\n",
              "  </div>\n",
              "  "
            ]
          },
          "metadata": {},
          "execution_count": 52
        }
      ]
    }
  ]
}